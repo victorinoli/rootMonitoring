{
 "nbformat": 4,
 "nbformat_minor": 0,
 "metadata": {
  "colab": {
   "provenance": [],
   "authorship_tag": "ABX9TyPUEpfrwIkgoH6exhs4efKL",
   "include_colab_link": true
  },
  "kernelspec": {
   "name": "python3",
   "display_name": "Python 3 (ipykernel)",
   "language": "python"
  },
  "language_info": {
   "name": "python"
  }
 },
 "cells": [
  {
   "cell_type": "markdown",
   "metadata": {
    "id": "view-in-github",
    "colab_type": "text"
   },
   "source": [
    "<a href=\"https://colab.research.google.com/github/victorinoli/rootMonitoring/blob/main/Untitled0.ipynb\" target=\"_parent\"><img src=\"https://colab.research.google.com/assets/colab-badge.svg\" alt=\"Open In Colab\"/></a>"
   ]
  },
  {
   "cell_type": "code",
   "metadata": {
    "colab": {
     "base_uri": "https://localhost:8080/"
    },
    "id": "sa_q3il4G6t7",
    "outputId": "b4e1a79a-7d09-481c-96ac-450bd4ab546f",
    "ExecuteTime": {
     "end_time": "2024-12-04T19:59:00.823646Z",
     "start_time": "2024-12-04T19:59:00.820894Z"
    }
   },
   "source": [
    "print(\"Hello World!!!\")\n",
    "print(\"O comit funcionou!!\")\n",
    "print(\"teste 2\")"
   ],
   "outputs": [
    {
     "name": "stdout",
     "output_type": "stream",
     "text": [
      "Hello World!!!\n",
      "O comit funcionou!!\n",
      "teste 2\n"
     ]
    }
   ],
   "execution_count": 4
  },
  {
   "metadata": {},
   "cell_type": "code",
   "outputs": [],
   "execution_count": null,
   "source": ""
  }
 ]
}
